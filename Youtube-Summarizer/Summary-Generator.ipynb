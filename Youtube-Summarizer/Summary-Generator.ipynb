{
 "cells": [
  {
   "cell_type": "code",
   "execution_count": 6,
   "id": "initial_id",
   "metadata": {
    "collapsed": true,
    "ExecuteTime": {
     "end_time": "2023-12-12T01:06:11.868684Z",
     "start_time": "2023-12-12T01:06:11.866187Z"
    }
   },
   "outputs": [],
   "source": [
    "from pytube import extract as ext\n",
    "from youtube_transcript_api import YouTubeTranscriptApi as Yt\n",
    "import spacy as sp\n",
    "from spacy.lang.en import STOP_WORDS\n",
    "from string import punctuation\n",
    "import heapq as hq"
   ]
  },
  {
   "cell_type": "code",
   "execution_count": 7,
   "outputs": [],
   "source": [
    "video_url = 'https://www.youtube.com/watch?v=EpipswT-LuE&ab_channel=TED'\n",
    "video_id = ext.video_id(video_url)"
   ],
   "metadata": {
    "collapsed": false,
    "ExecuteTime": {
     "end_time": "2023-12-12T01:06:11.880471Z",
     "start_time": "2023-12-12T01:06:11.872858Z"
    }
   },
   "id": "e30824f6e5998892"
  },
  {
   "cell_type": "code",
   "execution_count": 8,
   "outputs": [],
   "source": [
    "transcript = Yt.get_transcript(video_id)\n",
    "text = \"\"\n",
    "for elem in transcript:\n",
    "    text = text + \" \" + elem[\"text\"]"
   ],
   "metadata": {
    "collapsed": false,
    "ExecuteTime": {
     "end_time": "2023-12-12T01:06:12.545664Z",
     "start_time": "2023-12-12T01:06:11.877433Z"
    }
   },
   "id": "12c54d974b12b2f1"
  },
  {
   "cell_type": "code",
   "execution_count": 10,
   "outputs": [
    {
     "data": {
      "text/plain": " Artificial intelligence and warfare. Let's talk about\nwhat this really could look like. Swarms of lethal drones\nwith facial recognition that know your every move. Or unmanned armed robots\nthat are near impossible to defeat. Autonomous fighter jets\nthat can travel at supersonic speeds and can withstand\ngreater gravitational force than a human pilot could survive. Cyberattacks that incapacitate\ncritical port infrastructure or disinformation campaigns and deepfakes\nthat throw presidential elections. Or even foreign adversaries\ntaking out satellites, our eyes and ears in space, rendering us blind to global events. All superintelligent weapons of terror. We are at the dawn\nof a new age of warfare. I grew up in the birthplace\nof a technology that defined the last era of warfare, the atomic bomb. I was keenly aware of how this technology\nhad fundamentally shaped geopolitics and the nature of war. My parents were both scientists\nat Los Alamos National Laboratory. My dad’s a physicist,\nand my mom’s an astrophysicist. Their scientific work\nin plasma fluid dynamics will have deep implications\nfor how we understand our universe. So naturally, I knew I wanted to work\non something just as impactful. I decided to become a programmer\nand study artificial intelligence. AI is one of the most critical\ntechnologies of our time and with deep implications\nfor national security and democracy globally. As we saw in World War II\nwith the atomic bomb, the country that is able\nto most rapidly and effectively integrate new technology\ninto warfighting wins. There's no reason to believe\nthis will be any different with AI. But in the AI arms race,\nwe're already behind. From a technological perspective, China is already ahead\nof the United States in computer vision AI. And in large language models,\nlike ChatGPT, they are fast followers. In terms of military implementations, they're outspending us: adjusted for total military budget, China's spending ten times more\nthan the United States. Why are we so far behind? The answer is twofold. First, data supremacy. Despite having the largest fleet\nof military hardware in the world, most of the data from this fleet\nis thrown away or inaccessible, hidden away on hard drives\nthat never see the light of day. This is our Achilles heel. In an AI war, everything\nboils down to data. For defense AI, data from the internet is not enough. Most of the data needs to come\nfrom our military assets, sensors and collaborations\nwith tech companies. Military commanders need to know\nhow to use data as a military asset. I've heard this first-hand many times, from my conversations\nwith military personnel, including most recently from Lieutenant General\nRichard R. Coffman, deputy commanding general\nfor United States Army Futures Command. Second, despite being home\nto the leading technology companies at the forefront\nof artificial intelligence, the US tech industry\nhas largely shied away from taking on government contracts. Somewhere along the line, tech leaders decided that working\nwith the government was taboo. As a technologist, I'm often asked\nhow I'm bettering this world. This is how I'm improving\nthe future of our world: by helping my country succeed and providing the best tools\nand technology to ensure that the United States\ngovernment can defend its citizens, allies and partners. (Applause) The Ukraine war has demonstrated\nthat the nature of war has changed. Through AI overmatch,\nUkraine is challenging an adversary with far superior numbers\nof troops and weapons. Before the Ukraine war, Russia had spent an estimated\n65 billion US dollars on its military expenditures, whereas Ukraine only spent\nabout six billion dollars. It's estimated that Russia\nhad over 900,000 military troops and 1,300 aircraft, whereas Ukraine only had\n200,000 military troops and 130 aircraft. Technologies such as drones, AI-based targeting and image intelligence and Javelin missiles have enabled a shocking\ndefense of Ukraine. AI is proving invaluable for defending\nUkrainian cities and infrastructure against missile and drone bombardment. At Scale, we’re using\nour novel machine learning algorithm for battle damage assessment\nin key areas affected by the war. We've rapidly analyzed\nover 2,000 square kilometers and have identified\nover 370,000 structures, including thousands\nnot previously identified by other open source data sets. We focused on Kyiv, Kharkiv and Dnipro and provided our data directly in a publicly accessible data set\nto the broader AI community. One of the key problems we're solving is using AI to analyze massive amounts\nof imagery and detect objects because humans just can't keep up. We've received an overwhelming response\nfrom our free AI-ready data set and have provided it directly\nto the United States and NATO allies. And it's been downloaded over 2,000 times\nby AI companies, researchers, developers and GIS practitioners. AI can also be used for change detection. Simply put, algorithms\ncan constantly monitor imagery and notify a human to investigate further\nif there's a change or a movement. It's clear that AI\nis increasingly powering warfare. And based on the rate of progress\nin the AI field, I predict that in ten years,\nit will be the dominant force. Disinformation and misinformation\nare already huge problems. And this technology\nis only going to make it worse. Tools like ChatGPT\nhave enabled AI to generate imagery, text, audio, video, code and even reason. These tools can generate realistic-looking\nand realistic-sounding content, which on top of bot-run\nsocial media accounts will make it nearly impossible\nto identify disinformation and misinformation online. Bad actors can use these tools\nto supercharge misinformation and propagate falsehoods. China already uses\ndisinformation campaigns and social media manipulations\nheavily in Taiwan, particularly during elections. Or take Russia's propaganda machine, which in the wake\nof Russia's invasion of Ukraine created a deepfake\nof Ukrainian President Zelensky calling for Ukrainian troops to surrender. This deepfake was easy to spot, but the next one may not be. This also takes place within our borders, from social media algorithm manipulation to advertising microtargeting\nand geofencing, to deepfakes of politicians\nand bot-run social media accounts. The United States is not excused from exacerbating\ndisinformation and misinformation. These tools are universally accessible\nat low or no cost, meaning they can be employed\nby anyone anywhere to undermine the sanctity\nof democracy globally. However, all hope is not lost. If we properly invest into data infrastructure\nand data preparation, all this can be avoided. Deterrence is nothing new\nto military thinking. As we saw in World War II\nwith the atomic bomb, it was a primary factor\nin deterring foreign adversaries from going to nuclear war\nfor more than six decades. Because the stakes of going to war\nwith such a technology were simply too high. We're likely to see\na new calculus emerge with AI. It's uncharted territory,\nnobody knows what it will look like or the toll it will take. How do we know if our AI\nis better than our adversaries'? We won't. But one thing is clear: AI can only be as powerful\nas the underlying data that is used to fuel its algorithms. Data will be a new kind of ammunition\nin the era of AI warfare. In the tech industry,\nwe often talk about missions. They're often frivolous. Do they really change\nthe world or save lives? This mission, on the other hand,\nreally matters. The AI war will define\nthe future of our world and has the potential\nto shift the balance of diplomatic power. It's clear that digital warfare is not some dystopian reality,\ntucked away in a faraway future. It is taking place in the here and now. We cannot sit by the sidelines and watch the rise\nof an authoritarian regime. It is in moments like this that technologists can either rise\nto the challenge or stand idle. I encourage my fellow technologists to understand the austerity\nand severity of our times and commit themselves\nto supporting national security. While I find it shocking\nthat most American AI companies have chosen not to support\nnational security, I do hope others join us. We must fight for the world\nwe want to live in. It's never mattered more. Thank you. (Applause)"
     },
     "execution_count": 10,
     "metadata": {},
     "output_type": "execute_result"
    }
   ],
   "source": [
    "# python3 -m spacy download en_core_web_sm\n",
    "nlp = sp.load('en_core_web_sm')\n",
    "sentences = nlp(text)"
   ],
   "metadata": {
    "collapsed": false,
    "ExecuteTime": {
     "end_time": "2023-12-12T01:14:14.733301Z",
     "start_time": "2023-12-12T01:14:14.172835Z"
    }
   },
   "id": "bfb12fbb928ab645"
  },
  {
   "cell_type": "code",
   "execution_count": 12,
   "outputs": [],
   "source": [
    "tokens = [token.text for token in sentences]"
   ],
   "metadata": {
    "collapsed": false,
    "ExecuteTime": {
     "end_time": "2023-12-12T01:15:41.506814Z",
     "start_time": "2023-12-12T01:15:41.504044Z"
    }
   },
   "id": "4db6b79455331b8"
  },
  {
   "cell_type": "code",
   "execution_count": 13,
   "outputs": [],
   "source": [
    "word_frequencies = {}\n",
    "for word in sentences:\n",
    "    text = word.text.lower()\n",
    "    if text not in list(STOP_WORDS) and text not in punctuation:\n",
    "        if word.text not in word_frequencies.keys():\n",
    "            word_frequencies[word.text] = 1\n",
    "        else:\n",
    "            word_frequencies[word.text] += 1"
   ],
   "metadata": {
    "collapsed": false,
    "ExecuteTime": {
     "end_time": "2023-12-12T01:16:01.155014Z",
     "start_time": "2023-12-12T01:16:01.152934Z"
    }
   },
   "id": "263c07dc4080805f"
  },
  {
   "cell_type": "code",
   "execution_count": 14,
   "outputs": [],
   "source": [
    "max_frequency = max(word_frequencies.values())\n",
    "for word in word_frequencies.keys():\n",
    "    word_frequencies[word] = word_frequencies[word]/max_frequency"
   ],
   "metadata": {
    "collapsed": false,
    "ExecuteTime": {
     "end_time": "2023-12-12T01:16:21.400674Z",
     "start_time": "2023-12-12T01:16:21.395246Z"
    }
   },
   "id": "1f24c87f8852adfb"
  },
  {
   "cell_type": "code",
   "execution_count": 15,
   "outputs": [],
   "source": [
    "sentence_tokens = [sentence for sentence in sentences.sents]\n",
    "sentence_score = {}\n",
    "for sentence in sentence_tokens:\n",
    "    for word in sentence:\n",
    "        if word.text.lower() in word_frequencies.keys():\n",
    "            if sentence not in sentence_score.keys():\n",
    "                sentence_score[sentence] = word_frequencies[word.text.lower()]\n",
    "            else:\n",
    "                sentence_score[sentence] += word_frequencies[word.text.lower()]"
   ],
   "metadata": {
    "collapsed": false,
    "ExecuteTime": {
     "end_time": "2023-12-12T01:16:40.003621Z",
     "start_time": "2023-12-12T01:16:40.000068Z"
    }
   },
   "id": "10ad463e9a1f9545"
  },
  {
   "cell_type": "code",
   "execution_count": 16,
   "outputs": [],
   "source": [
    "select_length = int(len(sentence_tokens) * 0.3)\n",
    "summary = hq.nlargest(select_length, sentence_score, key = sentence_score.get)\n",
    "final_summary = [word.text for word in summary]\n",
    "summary = ' '.join(final_summary)"
   ],
   "metadata": {
    "collapsed": false,
    "ExecuteTime": {
     "end_time": "2023-12-12T01:16:53.257900Z",
     "start_time": "2023-12-12T01:16:53.253953Z"
    }
   },
   "id": "5181d0b65f35965f"
  },
  {
   "cell_type": "code",
   "execution_count": null,
   "outputs": [],
   "source": [],
   "metadata": {
    "collapsed": false
   },
   "id": "d91fd43927e35ab9"
  }
 ],
 "metadata": {
  "kernelspec": {
   "display_name": "Python 3",
   "language": "python",
   "name": "python3"
  },
  "language_info": {
   "codemirror_mode": {
    "name": "ipython",
    "version": 2
   },
   "file_extension": ".py",
   "mimetype": "text/x-python",
   "name": "python",
   "nbconvert_exporter": "python",
   "pygments_lexer": "ipython2",
   "version": "2.7.6"
  }
 },
 "nbformat": 4,
 "nbformat_minor": 5
}
